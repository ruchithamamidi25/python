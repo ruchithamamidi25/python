{
 "cells": [
  {
   "cell_type": "code",
   "execution_count": 14,
   "metadata": {},
   "outputs": [
    {
     "name": "stdout",
     "output_type": "stream",
     "text": [
      "enter the number of hours:2\n",
      "2 hour is equal to 120 minutes\n"
     ]
    }
   ],
   "source": [
    "# Write a program to hours to minutes , user should able to give hours as input\n",
    "\n",
    "# your Answer\n",
    "n= int(input(\"enter the number of hours:\"))\n",
    "a = n * 60\n",
    "print(n,\"hour is equal to\",a,\"minutes\")\n"
   ]
  },
  {
   "cell_type": "code",
   "execution_count": 18,
   "metadata": {},
   "outputs": [
    {
     "name": "stdout",
     "output_type": "stream",
     "text": [
      "enter the centimeter:400\n",
      "400 centimeter is equal to 4.0 meter\n"
     ]
    }
   ],
   "source": [
    "# Write a program to convert centimeter to meter , user shoulb be able to give centimeter as input\n",
    "\n",
    "# your Answer\n",
    "n= int(input(\"enter the centimeter:\"))\n",
    "a = n/100\n",
    "print(n,\"centimeter is equal to\",a,\"meter\")\n",
    "\n"
   ]
  },
  {
   "cell_type": "code",
   "execution_count": 20,
   "metadata": {},
   "outputs": [
    {
     "name": "stdout",
     "output_type": "stream",
     "text": [
      "Please enter miles:1\n",
      "1.6  Kilometers\n"
     ]
    }
   ],
   "source": [
    "# Write a program to convert miles to Kilometer , user shoulb be able to give miles as input\n",
    "\n",
    "# your Answer\n",
    "n= float(input(\"Please enter miles:\"))\n",
    "kilometers = n* 1.6\n",
    "print(kilometers, \" Kilometers\")\n",
    "\n",
    "\n",
    "\n",
    "\n"
   ]
  },
  {
   "cell_type": "code",
   "execution_count": 22,
   "metadata": {},
   "outputs": [
    {
     "name": "stdout",
     "output_type": "stream",
     "text": [
      "enter the pounds2\n",
      "0.9 kilogram\n"
     ]
    }
   ],
   "source": [
    "# Write a program to convert pounds to Kilogram , user shoulb be able to give pounds as input\n",
    "\n",
    "# your Answer\n",
    "n=float(input(\"enter the pounds\"))\n",
    "kilogram=n*0.45\n",
    "print(kilogram,\"kilogram\")\n",
    "\n",
    "\n",
    "\n",
    "\n"
   ]
  },
  {
   "cell_type": "code",
   "execution_count": 45,
   "metadata": {},
   "outputs": [
    {
     "name": "stdout",
     "output_type": "stream",
     "text": [
      "enter the principle:2\n",
      "enter the rate:3\n",
      "enter the time:6\n",
      "0.36\n"
     ]
    }
   ],
   "source": [
    "# Write a program to calculate simple interest # all input shoulb be given by the user\n",
    "\n",
    "# your Answer\n",
    "p=int(input(\"enter the principle:\"))\n",
    "r=int(input(\"enter the rate:\"))\n",
    "t=int(input(\"enter the time:\"))\n",
    "si=p*r*t/100\n",
    "print(si)\n",
    "\n",
    "\n",
    "\n",
    "\n",
    "\n",
    "\n",
    "\n",
    "\n"
   ]
  },
  {
   "cell_type": "code",
   "execution_count": 46,
   "metadata": {},
   "outputs": [
    {
     "name": "stdout",
     "output_type": "stream",
     "text": [
      "enter the radius6\n",
      "113.04\n"
     ]
    }
   ],
   "source": [
    "# Write a program to calculate area of circle\n",
    "\n",
    "# your Answer\n",
    "r=int(input(\"enter the radius\"))\n",
    "area=3.14*r**2\n",
    "print(area)\n",
    "\n",
    "\n",
    "\n",
    "\n",
    "\n"
   ]
  },
  {
   "cell_type": "code",
   "execution_count": 48,
   "metadata": {},
   "outputs": [
    {
     "name": "stdout",
     "output_type": "stream",
     "text": [
      "enter the radius3\n",
      "18.84\n"
     ]
    }
   ],
   "source": [
    "# Write a program to calculate circumference of circle\n",
    "\n",
    "# your Answer\n",
    "r=int(input(\"enter the radius\"))\n",
    "area=2*3.14*r\n",
    "print(area)\n",
    "\n",
    "\n",
    "\n",
    "\n",
    "\n",
    "\n"
   ]
  },
  {
   "cell_type": "code",
   "execution_count": 49,
   "metadata": {},
   "outputs": [
    {
     "name": "stdout",
     "output_type": "stream",
     "text": [
      "enter the sides5\n",
      "20\n"
     ]
    }
   ],
   "source": [
    "# Write a program to calculate perimeter of square\n",
    "\n",
    "# your Answer\n",
    "s=int(input(\"enter the sides\"))\n",
    "square=4*s\n",
    "print(square)\n",
    "\n",
    "\n",
    "\n"
   ]
  },
  {
   "cell_type": "code",
   "execution_count": 50,
   "metadata": {},
   "outputs": [
    {
     "name": "stdout",
     "output_type": "stream",
     "text": [
      "enter the side2\n",
      "4\n"
     ]
    }
   ],
   "source": [
    "# Write a program to calculate area of square\n",
    "\n",
    "# your Answer\n",
    "s=int(input(\"enter the side\"))\n",
    "square=s*s\n",
    "print(square)\n",
    "\n",
    "\n",
    "\n",
    "\n"
   ]
  },
  {
   "cell_type": "code",
   "execution_count": 53,
   "metadata": {},
   "outputs": [
    {
     "name": "stdout",
     "output_type": "stream",
     "text": [
      "enter the side2\n",
      "enter the side3\n",
      "enter the side4\n",
      "18.84\n"
     ]
    }
   ],
   "source": [
    "# Write a program to area of traingle\n",
    "\n",
    "# your Answer\n",
    "a=int(input(\"enter the side\"))\n",
    "b=int(input(\"enter the side\"))\n",
    "c=int(input(\"enter the side\"))\n",
    "triangle=(s*(s-a)*(s-b)*(s-c))**0.5\n",
    "print(area)"
   ]
  }
 ],
 "metadata": {
  "kernelspec": {
   "display_name": "Python 3 (ipykernel)",
   "language": "python",
   "name": "python3"
  },
  "language_info": {
   "codemirror_mode": {
    "name": "ipython",
    "version": 3
   },
   "file_extension": ".py",
   "mimetype": "text/x-python",
   "name": "python",
   "nbconvert_exporter": "python",
   "pygments_lexer": "ipython3",
   "version": "3.10.9"
  }
 },
 "nbformat": 4,
 "nbformat_minor": 2
}
